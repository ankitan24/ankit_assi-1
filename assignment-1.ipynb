{
 "cells": [
  {
   "cell_type": "raw",
   "id": "6dbf19f8-9453-4b33-882c-b653f5b219be",
   "metadata": {},
   "source": [
    "Ques. 1 - Explain the key features of Python that make it a popular choice for programming?\n",
    "\n",
    "Strong Community Support\n",
    "Python enjoys a vibrant and supportive community of developers worldwide. This community provides various resources, including forums, online communities, and open-source projects. The Python community strongly believes in knowledge sharing and mutual support.\n",
    "Wide Range of Libraries and Frameworks\n",
    "Python boasts a vast ecosystem of third-party libraries and frameworks. These libraries and frameworks provide developers with access to pre-built code and functionalities, reducing development time and increasing productivity.\n",
    "Extensive Standard Library\n",
    "Python comes with an extensive standard library, which is a collection of modules and packages that offer a wide range of functionalities. These modules and packages help simplify complex tasks by providing pre-built functionalities, saving developers time and effort.\n",
    "Readability and Simplicity\n",
    "Python places a strong emphasis on clean, readable code. Its syntax is designed to be highly readable, with minimal use of brackets and a clear layout using indentation and whitespace. By relying on indentation to define code blocks, Python enables developers to write code that is not only easy to write but also easy to read and understand.\n",
    "Versatility\n",
    "Python’s versatility is one of its key strengths. It can be used for a wide range of applications, including web development, data analysis, machine learning, scripting, and more. This versatility allows developers to use a single language for diverse projects, simplifying their workflow and reducing the learning curve associated with switching between different languages.\n"
   ]
  },
  {
   "cell_type": "code",
   "execution_count": null,
   "id": "4dd8ac33-f392-4086-8fdf-dc7ef75716ad",
   "metadata": {},
   "outputs": [],
   "source": [
    "#Ques.2- Describe the role of predefined keywords in Python and provide examples of how they are used in a program?\n",
    "#In Python, predefined keywords are reserved words that have special meaning in the language. \n",
    "#They cannot be used as identifiers (such as variable names, function names, or class names) because they are part of the syntax of the language.\n",
    "\n",
    "Examples of keywords include if, else, while, for, def, class, import, try, except, return, True, False, None, etc"
   ]
  },
  {
   "cell_type": "code",
   "execution_count": null,
   "id": "eee10e73-e6a6-4be1-a634-6126e7895b73",
   "metadata": {
    "tags": []
   },
   "outputs": [],
   "source": [
    "a = true\n",
    "type(a)"
   ]
  },
  {
   "cell_type": "raw",
   "id": "9c4e4d95-db7d-41fd-a43f-a885d434f748",
   "metadata": {},
   "source": [
    "Ques3 Compare and contrast mutable and immutable objects in Python with examples\n",
    "\n",
    "In Python, objects can be either changeable (modifiable) or unchangeable (unchangeable). \n",
    "Mutable objects, such as lists and dictionaries, can be modified after creation, while immutable objects, such as tuples and strings, cannot. \n",
    "Mutability affects how objects are stored and manipulated in memory, impacting performance, memory usage, and concurrency in Python programs.\n",
    "\n",
    "EXAMPLE:mutable object"
   ]
  },
  {
   "cell_type": "code",
   "execution_count": 11,
   "id": "a468369e-1bfe-432e-8ebd-76fd647931f3",
   "metadata": {},
   "outputs": [
    {
     "name": "stdout",
     "output_type": "stream",
     "text": [
      "[80, 20, 30]\n"
     ]
    }
   ],
   "source": [
    "list = [10, 20, 30]\n",
    "list[0] = 80\n",
    "print(list)"
   ]
  },
  {
   "cell_type": "code",
   "execution_count": 12,
   "id": "610b6bd4-fa70-4303-b65d-4d81584d7e23",
   "metadata": {},
   "outputs": [
    {
     "ename": "TypeError",
     "evalue": "'str' object does not support item assignment",
     "output_type": "error",
     "traceback": [
      "\u001b[0;31m---------------------------------------------------------------------------\u001b[0m",
      "\u001b[0;31mTypeError\u001b[0m                                 Traceback (most recent call last)",
      "Cell \u001b[0;32mIn[12], line 4\u001b[0m\n\u001b[1;32m      1\u001b[0m \u001b[38;5;66;03m#immutable object\u001b[39;00m\n\u001b[1;32m      3\u001b[0m string \u001b[38;5;241m=\u001b[39m \u001b[38;5;124m\"\u001b[39m\u001b[38;5;124mhello\u001b[39m\u001b[38;5;124m\"\u001b[39m\n\u001b[0;32m----> 4\u001b[0m \u001b[43mstring\u001b[49m\u001b[43m[\u001b[49m\u001b[38;5;241;43m0\u001b[39;49m\u001b[43m]\u001b[49m \u001b[38;5;241m=\u001b[39m \u001b[38;5;124m'\u001b[39m\u001b[38;5;124mH\u001b[39m\u001b[38;5;124m'\u001b[39m\n\u001b[1;32m      5\u001b[0m \u001b[38;5;28mprint\u001b[39m(string)\n",
      "\u001b[0;31mTypeError\u001b[0m: 'str' object does not support item assignment"
     ]
    }
   ],
   "source": [
    "#immutable object\n",
    "\n",
    "string = \"hello\"\n",
    "string[0] = 'H'\n",
    "print(string)"
   ]
  },
  {
   "cell_type": "raw",
   "id": "3b09fd4c-20f9-4dec-aecc-721c08fb37ed",
   "metadata": {},
   "source": [
    "Ques 4 \n",
    "Discuss the different types of operators in Python and provide examples of how they are used?\n",
    "\n",
    "In Python, operators are special symbols used to perform operations on values or variables. They can be categorized into several types, each serving different purposes. Here’s a comprehensive overview of the various operators in Python:\n",
    "Different type of operators in python are\n",
    "1. Arithmetic Operators\n",
    "2. Comparison (Relational) Operators\n",
    "3. Assignment Operators\n",
    "4. Logical Operators\n",
    "5.Bitwise Operators\n",
    "6.Membership Operators\n",
    "7. Identity Operators\n"
   ]
  },
  {
   "cell_type": "code",
   "execution_count": 14,
   "id": "a6f8766a-3cbb-4b29-9e28-e28374603530",
   "metadata": {},
   "outputs": [
    {
     "name": "stdout",
     "output_type": "stream",
     "text": [
      "31\n"
     ]
    }
   ],
   "source": [
    "#Arithmetic operator - Mathematical operations including addition, subtraction, multiplication, and division are\n",
    "#commonly carried out using Python arithmetic operators.\n",
    "#They are compatible with integers, variables, and expressions..\n",
    "\n",
    "a = 21\n",
    "b = 10\n",
    "\n",
    "print (a + b)\n"
   ]
  },
  {
   "cell_type": "code",
   "execution_count": 16,
   "id": "caded461-4b53-4f1f-8914-c1a0e63dc498",
   "metadata": {},
   "outputs": [
    {
     "name": "stdout",
     "output_type": "stream",
     "text": [
      "11\n"
     ]
    }
   ],
   "source": [
    "print (a - b) "
   ]
  },
  {
   "cell_type": "code",
   "execution_count": 17,
   "id": "a29d58ed-94eb-45de-8474-931d6952da18",
   "metadata": {},
   "outputs": [
    {
     "name": "stdout",
     "output_type": "stream",
     "text": [
      "False\n"
     ]
    }
   ],
   "source": [
    "#Python Comparison Operators\n",
    "#To compare two values, Python comparison operators are needed.\n",
    "#Based on the comparison, they produce a Boolean value (True or False)\n",
    "\n",
    "\n",
    "a = 4\n",
    "b = 5\n",
    "print (a == b)"
   ]
  },
  {
   "cell_type": "code",
   "execution_count": 18,
   "id": "4676c2aa-599f-43b2-a190-7b451fc83af6",
   "metadata": {},
   "outputs": [
    {
     "name": "stdout",
     "output_type": "stream",
     "text": [
      "True\n"
     ]
    }
   ],
   "source": [
    "print (a < b)"
   ]
  },
  {
   "cell_type": "code",
   "execution_count": 23,
   "id": "e9c1d6be-7c64-42b1-ac35-c5561ea2666c",
   "metadata": {},
   "outputs": [
    {
     "name": "stdout",
     "output_type": "stream",
     "text": [
      "a += 5 :  15\n"
     ]
    }
   ],
   "source": [
    "#Python Assignment Operators\n",
    "#Python assignment operators are used to assign values to variables in Python.\n",
    "#The single equal symbol (=) is the most fundamental assignment operator.\n",
    "#It assigns the value on the operator's right side to the variable on the operator's left side.\n",
    "\n",
    "a = 10\n",
    "a += 5\n",
    "print (\"a += 5 : \", a)\n"
   ]
  },
  {
   "cell_type": "code",
   "execution_count": 26,
   "id": "294e2800-61ff-4eda-89e8-d857a01d6d32",
   "metadata": {},
   "outputs": [
    {
     "name": "stdout",
     "output_type": "stream",
     "text": [
      "a **= 2 :  225\n"
     ]
    }
   ],
   "source": [
    "a **= 2\n",
    "print (\"a **= 2 : \", a)\n"
   ]
  },
  {
   "cell_type": "raw",
   "id": "12745e1b-4a31-46cc-91ae-6194f5cbcff6",
   "metadata": {},
   "source": [
    "Python Bitwise Operators\n",
    "Python bitwise operators execute operations on individual bits of binary integers.\n",
    "They work with integer binary representations, performing logical operations on each bit location.\n",
    "Python includes various bitwise operators, such as AND (&), OR (|), NOT (), XOR (), left shift (), and right shift (>>).\n"
   ]
  },
  {
   "cell_type": "markdown",
   "id": "b7a24e44-2b62-4766-a3d3-17289800767f",
   "metadata": {},
   "source": [
    "Python Logical Operators\n",
    "Python logical operators are used to compose Boolean expressions and evaluate their truth values.\n",
    "They are required for the creation of conditional statements as well as for managing the flow of execution in programs.\n",
    "Python has three basic logical operators: AND, OR, and NOT.\n",
    "\n",
    "examples:"
   ]
  },
  {
   "cell_type": "code",
   "execution_count": 31,
   "id": "92403691-b31f-40aa-a866-71f72e0f1fdb",
   "metadata": {},
   "outputs": [
    {
     "name": "stdout",
     "output_type": "stream",
     "text": [
      "Both x and y are within the specified range\n"
     ]
    }
   ],
   "source": [
    "x = 5\n",
    "y = 10\n",
    "if x>3 and y<15:\n",
    " print(\"Both x and y are within the specified range\")"
   ]
  },
  {
   "cell_type": "raw",
   "id": "843ac6ab-1826-4771-ba3f-5215e9f191b3",
   "metadata": {},
   "source": [
    "Python Identity Operators\n",
    "Python identity operators are used to compare two objects' memory addresses rather than their values.\n",
    "If the two objects refer to the same memory address, they evaluate to True; otherwise, they evaluate to False.\n",
    "Python includes two identity operators: the is and is not operators\n",
    "\n",
    "example:"
   ]
  },
  {
   "cell_type": "code",
   "execution_count": 32,
   "id": "c26667ef-52a5-466b-ad8d-5f18a90f2e78",
   "metadata": {},
   "outputs": [
    {
     "name": "stdout",
     "output_type": "stream",
     "text": [
      "x and y are not the same object\n"
     ]
    }
   ],
   "source": [
    "x = 10\n",
    "y = 5\n",
    "if x is y:\n",
    "    print(\"x and y are the same object\")\n",
    "else:\n",
    "    print(\"x and y are not the same object\")"
   ]
  },
  {
   "cell_type": "code",
   "execution_count": 33,
   "id": "fd14c715-fa08-44d2-9f36-79733afd3324",
   "metadata": {},
   "outputs": [
    {
     "name": "stdout",
     "output_type": "stream",
     "text": [
      "x and y are the same object\n"
     ]
    }
   ],
   "source": [
    "x = 10\n",
    "y = 10\n",
    "if x is y:\n",
    "    print(\"x and y are the same object\")\n",
    "else:\n",
    "    print(\"x and y are not the same object\")"
   ]
  },
  {
   "cell_type": "raw",
   "id": "398ee3c0-c2cb-48ad-9ac9-48a64e6c4934",
   "metadata": {},
   "source": [
    "Ques 5 : Explain the concept of type casting in Python with examples?\n",
    "\n",
    "Casting in Python refers to converting a variable from one data type to another. This is a common operation when you need to perform type-specific operations or ensure that data is in the correct format for processing. Python provides several built-in functions for casting between different data types.\n",
    "\n",
    "1. Casting to Integer (int)\n",
    "Convert other data types to integers\n",
    "\n",
    "2.Casting to Float (float)\n",
    "Convert other data types to floats.\n",
    "\n",
    "3.Casting to String (str)\n",
    "Convert other data types to strings.\n",
    "\n",
    "4.Casting to Boolean (bool)\n",
    "Convert other data types to boolean values\n",
    "\n",
    "example:\n"
   ]
  },
  {
   "cell_type": "code",
   "execution_count": 36,
   "id": "21818393-9d75-4c8d-b9ab-fb634ee23465",
   "metadata": {},
   "outputs": [
    {
     "name": "stdout",
     "output_type": "stream",
     "text": [
      "5\n"
     ]
    }
   ],
   "source": [
    "#From Float to Integer:\n",
    "x = 5.7\n",
    "y = int(x)\n",
    "print(y)\n"
   ]
  },
  {
   "cell_type": "code",
   "execution_count": 37,
   "id": "bceac25b-08bd-4a10-9e3e-9771ebff2020",
   "metadata": {},
   "outputs": [
    {
     "name": "stdout",
     "output_type": "stream",
     "text": [
      "5.0\n"
     ]
    }
   ],
   "source": [
    "# From Integer to Float:\n",
    "x = 5\n",
    "y = float(x) \n",
    "print(y)\n",
    "\n"
   ]
  },
  {
   "cell_type": "code",
   "execution_count": 38,
   "id": "f54908d1-83ac-4afa-be4e-845350f4086c",
   "metadata": {},
   "outputs": [
    {
     "name": "stdout",
     "output_type": "stream",
     "text": [
      "0.0\n"
     ]
    }
   ],
   "source": [
    "#From Boolean to Float\n",
    "b = False\n",
    "f = float(b)\n",
    "print(f)\n"
   ]
  },
  {
   "cell_type": "code",
   "execution_count": 39,
   "id": "4834df11-660c-415b-8645-b01626653d41",
   "metadata": {},
   "outputs": [
    {
     "name": "stdout",
     "output_type": "stream",
     "text": [
      "42\n"
     ]
    }
   ],
   "source": [
    "#From Integer to String:\n",
    "i = 42\n",
    "s = str(i)\n",
    "print(s)\n"
   ]
  },
  {
   "cell_type": "code",
   "execution_count": 40,
   "id": "cf46b15a-3692-485f-a1f4-0f6af6918dc6",
   "metadata": {},
   "outputs": [
    {
     "name": "stdout",
     "output_type": "stream",
     "text": [
      "True\n"
     ]
    }
   ],
   "source": [
    "#From Integer to Boolean:\n",
    "s = \"False\"\n",
    "b = bool(s)\n",
    "print(b)\n"
   ]
  },
  {
   "cell_type": "code",
   "execution_count": 41,
   "id": "3343f8bc-ba64-4e43-9330-1e87f8a0114d",
   "metadata": {},
   "outputs": [
    {
     "name": "stdout",
     "output_type": "stream",
     "text": [
      "42\n",
      "42.0\n"
     ]
    }
   ],
   "source": [
    "#Converting a String to Different Types\n",
    "\n",
    "s = \"42\"\n",
    "i = int(s) \n",
    "f = float(s)\n",
    "print(i)\n",
    "print(f)\n"
   ]
  },
  {
   "cell_type": "raw",
   "id": "5917ba94-e588-4966-b06d-2e9878ef4bee",
   "metadata": {},
   "source": [
    "QUES-6: How do conditional statements work in Python? Illustrate with examples?\n",
    "\n",
    "Conditional statements in Python are used to make decisions in your code by executing certain blocks of code based on whether a condition is true or false. The primary conditional statements in Python include if, elif, and else.\n",
    "\n",
    "1. Basic if Statement\n",
    "The if statement allows you to execute a block of code if a specified condition evaluates to True.\n",
    "example: \n"
   ]
  },
  {
   "cell_type": "code",
   "execution_count": 42,
   "id": "f3919ae5-3499-4006-ab52-6b791e36682f",
   "metadata": {},
   "outputs": [
    {
     "name": "stdout",
     "output_type": "stream",
     "text": [
      "x is greater than 5\n"
     ]
    }
   ],
   "source": [
    "x = 50\n",
    "\n",
    "if x > 20:\n",
    "    print(\"x is greater than 5\")\n"
   ]
  },
  {
   "cell_type": "code",
   "execution_count": 44,
   "id": "341d7ab8-1ae3-4769-9790-c9e3fe134bd3",
   "metadata": {},
   "outputs": [
    {
     "name": "stdout",
     "output_type": "stream",
     "text": [
      "x is 105 or less\n"
     ]
    }
   ],
   "source": [
    "#2.else Statement\n",
    "#The else statement is used to execute a block of code when the condition in the if statement is False.\n",
    "\n",
    "x = 100\n",
    "\n",
    "if x > 105:\n",
    "    print(\"x is greater than 105\")\n",
    "else:\n",
    "    print(\"x is 105 or less\")\n",
    "\n",
    "    "
   ]
  },
  {
   "cell_type": "code",
   "execution_count": 47,
   "id": "e63058c6-4dca-446b-bd21-e52a30d2ad65",
   "metadata": {},
   "outputs": [
    {
     "name": "stdout",
     "output_type": "stream",
     "text": [
      "x is 5 or less\n"
     ]
    }
   ],
   "source": [
    "#elif Statement\n",
    "#The elif (short for \"else if\") statement allows you to check multiple conditions. \n",
    "#It follows the if statement and precedes the else statement.\n",
    "\n",
    "x = 20\n",
    "\n",
    "if x > 50:\n",
    "    print(\"x is greater than 50\")\n",
    "elif x > 25:\n",
    "    print(\"x is greater than 5 but less than or equal to 50\")\n",
    "else:\n",
    "    print(\"x is 5 or less\")\n"
   ]
  },
  {
   "cell_type": "raw",
   "id": "7b78b22c-5885-4dfc-835f-eb3045a0fe63",
   "metadata": {},
   "source": [
    "Ques 7 .Describe the different types of loops in Python and their use cases with examples?\n",
    "\n",
    "A loop is a control flow statement in Python that allows you to execute a piece of code repeatedly until a specific condition is met. Loops are necessary for operations that require repetitive execution, such as iterating through a Python list of items or doing calculations many times\n",
    "\n",
    "There are 3 Types of Loops in Python, those are:\n",
    "1. Python while loop\n",
    "2. Python for loop\n",
    "3. Python nested loop\n",
    "\n",
    "1. Python while loop\n",
    "In Python, a while loop is a control flow statement that allows you to execute a block of code repeatedly while a given condition is true.\n",
    "The condition is evaluated at the start of each loop iteration, and if it is true, the loop body is executed.\n",
    "The loop is terminated if the condition is false.\n",
    "\n",
    "2. Python for loop\n",
    "A for loop is a control flow statement in Python that allows you to iterate over a sequence of elements such as a list, tuple, or string.\n",
    "On each iteration, the loop variable in Python will take on the value of the next item in the sequence.\n",
    "\n",
    "3.Python Nested loop\n",
    "In Python, a nested loop is a loop that is contained within another loop.\n",
    "This indicates that the inner loop is executed within each outer loop iteration.\n",
    "Nested loops are handy for iterating over a two-dimensional array or processing hierarchical data."
   ]
  },
  {
   "cell_type": "code",
   "execution_count": null,
   "id": "72d2a4ed-d338-42f0-9806-1675dec798bf",
   "metadata": {},
   "outputs": [],
   "source": [
    "abhishek"
   ]
  }
 ],
 "metadata": {
  "kernelspec": {
   "display_name": "Python 3 (ipykernel)",
   "language": "python",
   "name": "python3"
  },
  "language_info": {
   "codemirror_mode": {
    "name": "ipython",
    "version": 3
   },
   "file_extension": ".py",
   "mimetype": "text/x-python",
   "name": "python",
   "nbconvert_exporter": "python",
   "pygments_lexer": "ipython3",
   "version": "3.10.8"
  }
 },
 "nbformat": 4,
 "nbformat_minor": 5
}
