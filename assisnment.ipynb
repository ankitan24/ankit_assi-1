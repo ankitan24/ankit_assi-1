{
 "cells": [
  {
   "cell_type": "code",
   "execution_count": null,
   "id": "bb29cdc3-9c53-4bfe-b3e2-527457052279",
   "metadata": {},
   "outputs": [],
   "source": [
    "Ques. 1 - Explain the key features of Python that make it a popular choice for programming?\n",
    "\n",
    "Strong Community Support\n",
    "Python enjoys a vibrant and supportive community of developers worldwide. This community provides various resources, including forums, online communities, and open-source projects. The Python community strongly believes in knowledge sharing and mutual support.\n",
    "Wide Range of Libraries and Frameworks\n",
    "Python boasts a vast ecosystem of third-party libraries and frameworks. These libraries and frameworks provide developers with access to pre-built code and functionalities, reducing development time and increasing productivity.\n",
    "Extensive Standard Library\n",
    "Python comes with an extensive standard library, which is a collection of modules and packages that offer a wide range of functionalities. These modules and packages help simplify complex tasks by providing pre-built functionalities, saving developers time and effort.\n",
    "Readability and Simplicity\n",
    "Python places a strong emphasis on clean, readable code. Its syntax is designed to be highly readable, with minimal use of brackets and a clear layout using indentation and whitespace. By relying on indentation to define code blocks, Python enables developers to write code that is not only easy to write but also easy to read and understand.\n",
    "Versatility\n",
    "Python’s versatility is one of its key strengths. It can be used for a wide range of applications, including web development, data analysis, machine learning, scripting, and more. This versatility allows developers to use a single language for diverse projects, simplifying their workflow and reducing the learning curve associated with switching between different languages.\n",
    "\n",
    "\n",
    "Ques.2- Describe the role of predefined keywords in Python and provide examples of how they are used in a program?\n",
    "\n",
    "abcdxyz\n",
    "\n",
    "\n",
    "\n"
   ]
  }
 ],
 "metadata": {
  "kernelspec": {
   "display_name": "Python 3 (ipykernel)",
   "language": "python",
   "name": "python3"
  },
  "language_info": {
   "codemirror_mode": {
    "name": "ipython",
    "version": 3
   },
   "file_extension": ".py",
   "mimetype": "text/x-python",
   "name": "python",
   "nbconvert_exporter": "python",
   "pygments_lexer": "ipython3",
   "version": "3.10.8"
  }
 },
 "nbformat": 4,
 "nbformat_minor": 5
}
